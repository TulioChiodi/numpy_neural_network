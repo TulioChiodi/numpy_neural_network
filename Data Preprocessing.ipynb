{
 "cells": [
  {
   "cell_type": "markdown",
   "metadata": {},
   "source": [
    "Notes:  \n",
    "Verificar normalização em get_signal_list()  \n",
    "https://librosa.github.io/librosa/generated/librosa.util.normalize.html"
   ]
  },
  {
   "cell_type": "code",
   "execution_count": 1,
   "metadata": {},
   "outputs": [],
   "source": [
    "%reload_ext autoreload\n",
    "%autoreload 2"
   ]
  },
  {
   "cell_type": "code",
   "execution_count": 2,
   "metadata": {},
   "outputs": [],
   "source": [
    "from utils import *\n",
    "from pathlib import Path"
   ]
  },
  {
   "cell_type": "markdown",
   "metadata": {},
   "source": [
    "## Dataset setup and setup testing."
   ]
  },
  {
   "cell_type": "code",
   "execution_count": 4,
   "metadata": {},
   "outputs": [
    {
     "name": "stderr",
     "output_type": "stream",
     "text": [
      "100%|██████████| 60/60 [00:00<00:00, 258.20it/s]\n",
      "100%|██████████| 206/206 [00:00<00:00, 534.95it/s]\n",
      "100%|██████████| 206/206 [00:14<00:00, 13.91it/s]\n"
     ]
    },
    {
     "name": "stdout",
     "output_type": "stream",
     "text": [
      "------\n",
      "Splitted dataset:\n",
      "framerate: 16000Hz (all files has the same framerate)\n",
      "File length (seconds): 2.0s (all files has the same length)\n",
      "Total dataset length (seconds): 412.0s\n",
      "\n",
      "Original dataset:\n",
      "framerate: 44100Hz (all files has the same length)\n",
      "------\n",
      "Your dataset is ready! :D\n"
     ]
    }
   ],
   "source": [
    "(np_filename_list, bool_label_list, one_hot_labels, spec_flatten_list, etc, signal_list, splitted_file_list) = setup_dataset(csv_path='instruments.csv',\n",
    "             dataset_path='dataset',\n",
    "             splitted_dataset_path='splitted_dataset',\n",
    "             chunk_length=2,\n",
    "             sr=16000)"
   ]
  },
  {
   "cell_type": "code",
   "execution_count": null,
   "metadata": {},
   "outputs": [],
   "source": []
  }
 ],
 "metadata": {
  "kernelspec": {
   "display_name": "Python dl_project",
   "language": "python",
   "name": "dl_project"
  },
  "language_info": {
   "codemirror_mode": {
    "name": "ipython",
    "version": 3
   },
   "file_extension": ".py",
   "mimetype": "text/x-python",
   "name": "python",
   "nbconvert_exporter": "python",
   "pygments_lexer": "ipython3",
   "version": "3.7.6"
  }
 },
 "nbformat": 4,
 "nbformat_minor": 4
}
