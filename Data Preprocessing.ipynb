{
 "cells": [
  {
   "cell_type": "code",
   "execution_count": 153,
   "metadata": {},
   "outputs": [],
   "source": [
    "%reload_ext autoreload\n",
    "%autoreload 2"
   ]
  },
  {
   "cell_type": "code",
   "execution_count": 154,
   "metadata": {},
   "outputs": [],
   "source": [
    "from utils import *\n",
    "from pathlib import Path"
   ]
  },
  {
   "cell_type": "code",
   "execution_count": 93,
   "metadata": {},
   "outputs": [],
   "source": [
    "file_list = read_dataset()"
   ]
  },
  {
   "cell_type": "code",
   "execution_count": 94,
   "metadata": {},
   "outputs": [
    {
     "name": "stderr",
     "output_type": "stream",
     "text": [
      "100%|██████████| 60/60 [00:00<00:00, 592.21it/s]\n"
     ]
    }
   ],
   "source": [
    "split_audio(file_list=file_list)"
   ]
  },
  {
   "cell_type": "code",
   "execution_count": 114,
   "metadata": {},
   "outputs": [],
   "source": [
    "splittedfile_list = get_wav_list()"
   ]
  },
  {
   "cell_type": "code",
   "execution_count": 118,
   "metadata": {},
   "outputs": [
    {
     "data": {
      "text/plain": [
       "['splitted_dataset/d6144e01_chunk1of2.wav',\n",
       " 'splitted_dataset/dc5be9d7_chunk4of5.wav']"
      ]
     },
     "execution_count": 118,
     "metadata": {},
     "output_type": "execute_result"
    }
   ],
   "source": [
    "splittedfile_list[:2]"
   ]
  },
  {
   "cell_type": "code",
   "execution_count": 116,
   "metadata": {},
   "outputs": [
    {
     "name": "stderr",
     "output_type": "stream",
     "text": [
      "100%|██████████| 206/206 [00:00<00:00, 582.50it/s]\n"
     ]
    }
   ],
   "source": [
    "zero_padding(file_list=splittedfile_list)"
   ]
  },
  {
   "cell_type": "code",
   "execution_count": 156,
   "metadata": {},
   "outputs": [
    {
     "name": "stdout",
     "output_type": "stream",
     "text": [
      "16000\n",
      "2.0\n"
     ]
    }
   ],
   "source": [
    "import wave \n",
    "file_length_seconds = []\n",
    "framerate_list = []\n",
    "for file in splittedfile_list:\n",
    "    with wave.open(f'/home/tuliochiodi/workspace/nn_numpy/project/{file}', 'rb') as wave_file:\n",
    "        framerate =  wave_file.getframerate()\n",
    "        nframes = wave_file.getnframes()\n",
    "        framerate_list.append(framerate)\n",
    "        file_length_seconds.append(nframes/framerate)\n",
    "\n",
    "print(framerate_list[0])\n",
    "print(file_length_seconds[0])\n",
    "assert framerate_list.count(framerate_list[0]) == 206, f'Existem arquivos com framerate diferentes de {framerate_list[0]}'\n",
    "assert file_length_seconds.count(file_length_seconds[0]) == 206, f'Existem arquivos com tamanho diferente de {file_length_seconds[0]}'"
   ]
  },
  {
   "cell_type": "code",
   "execution_count": 155,
   "metadata": {},
   "outputs": [
    {
     "name": "stderr",
     "output_type": "stream",
     "text": [
      "100%|██████████| 206/206 [00:19<00:00, 10.37it/s]\n"
     ]
    }
   ],
   "source": [
    "resampling(file_list=splittedfile_list, sr=16000)"
   ]
  },
  {
   "cell_type": "code",
   "execution_count": null,
   "metadata": {},
   "outputs": [],
   "source": []
  }
 ],
 "metadata": {
  "kernelspec": {
   "display_name": "Python dl_project",
   "language": "python",
   "name": "dl_project"
  },
  "language_info": {
   "codemirror_mode": {
    "name": "ipython",
    "version": 3
   },
   "file_extension": ".py",
   "mimetype": "text/x-python",
   "name": "python",
   "nbconvert_exporter": "python",
   "pygments_lexer": "ipython3",
   "version": "3.7.6"
  }
 },
 "nbformat": 4,
 "nbformat_minor": 4
}
